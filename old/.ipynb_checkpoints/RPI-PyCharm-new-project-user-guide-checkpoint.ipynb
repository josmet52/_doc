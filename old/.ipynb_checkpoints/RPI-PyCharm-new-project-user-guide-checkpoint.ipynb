{
 "cells": [
  {
   "cell_type": "markdown",
   "metadata": {},
   "source": [
    "# Rasberry PI remote project with PyCharm\n",
    "novembre 2020, Joseph Métrailler\n",
    "\n",
    "-----------------------------------"
   ]
  },
  {
   "cell_type": "code",
   "execution_count": null,
   "metadata": {},
   "outputs": [],
   "source": [
    "### créer le projet sur le PI\n",
    "\n",
    "- créer le dossier du projet exemple: ex: *`myprg`*\n",
    "\n",
    "Ouvrir un invite de commande dans le dossier du projet\n",
    "- créer le premier fichier python par exemple *`myprg`*"
   ]
  },
  {
   "cell_type": "code",
   "execution_count": null,
   "metadata": {},
   "outputs": [],
   "source": [
    "### Environnement virtuel\n",
    "\n",
    "Dans un invite de commande dans le dossier du projet\n",
    "\n",
    "- Installer / upgrader pip : `python3 -m pip install --user --upgrade pip`\n",
    "- Installer venv : `python3 -m pip install virtualenv`\n",
    "- créer l'environnement virtuel: `python3 -m venv venv`\n",
    "- activer l'environnement virtuel : `source venv/bin/activate` l'invite devient (venv) pi@...\n",
    "- installer les paquets nécessaires  ex : `pip3 install *numpy*`\n",
    "- lorsque tous les packages sont installés créer le fichier requirements.txt : `pip freeze -l requirements.txt`"
   ]
  },
  {
   "cell_type": "code",
   "execution_count": null,
   "metadata": {},
   "outputs": [],
   "source": [
    " \n",
    "### Créer et inscrire le projet dans github\n",
    " \n",
    "Sur le site [github](https://github.com/josmet52) créer un mouveau repository\n",
    "\n",
    "Dans un invite de commande dans le dossier du projet:\n",
    "\n",
    "- initialiser le dépot git local : `git init`\n",
    "- créer le dépot distant : `git remote add origin https://github.com/josmet52/*myprg*`\n",
    "- user email config locale : `git config --global user.email \"joseph.metrailler@bluewin.ch\"`\n",
    "- user name config locale : `git config --global user.name \"josmet52\"`\n",
    "- store account data's : `git config credential.helper store`\n",
    "- créer le fichier gitignore : `.gitignore` avec les lignew `*.pyc` et __pycache__/\n",
    "- ajouter les nouveaux fichier : `git add *`\n",
    "- créer le premier commit : `git commit -m \"20201120 first commit\"`\n",
    "- faire le premier push : `git push -u origin main`"
   ]
  },
  {
   "cell_type": "markdown",
   "metadata": {},
   "source": [
    "### Importer le projet dans PyCharm\n",
    "\n",
    "Dans la fenêtre d'ouverture de PyCharm choisir l'option `Get from Version Control`\n",
    "\n",
    "- sous URL saisir : `https//github.com/josmet52/*myprg*`\n",
    "- sous directory entrer le chemin et le nom du dossier de l'application : `C:\\Users\\jmetr\\_data\\dev soft\\python\\*myprg*`\n",
    "- cliquer sur `Clone`\n",
    "\n",
    "Dans l'IDE PyCharm :\n",
    "\n",
    "##### Configurer le déployement de l'application\n",
    "\n",
    "- sélectioner le menu `File | Settings | Build, Execution, Deployment | Deployment`\n",
    "- cliquer sur **+** en haut de la fenêtre Settings, choisir SFTP et entrer le nom du serveur à créer ex : `*myprg*`\n",
    "- cliquer sur ... à droite de SSH configuration et compléter les champs pour la connection SSH\n",
    "- tester la connection si OK alors cliquer `OK`autrement corriger les champs\n",
    "- cliquer sur Mappings en haut de la fenêtre et sous `Deployment path:` sélectionner le path sur la plateforme distante puis `OK`\n",
    "- sélectionner le menu `Tools | Deployment` et activer `Automatic upload (always)`\n",
    "\n",
    "##### Configurer l'interpréteur distant\n",
    "\n",
    "1. créer\n",
    "  - sélectionner le menu : `File | Settings | Project:*myprg* | Python interpreter`\n",
    "  - cliquer sur la roue dentée en haut à droite pour sur `Add`\n",
    "  - dans le fenêtre qui s'ouvre, à gauche, cliquer sur `SSH Interpreter' \n",
    "  - remplir le champ `Host` avec l'adresse IP du RPI, laiser le port par défaut\n",
    "  - remplir le champ `Username` pour se logger sur le RPI puis `Next`\n",
    "  - compléter le chaqmp `Password` et cocher `Save password` puis `Next`\n",
    "  - compléter le champ `Interpreter` avec le chemin de l'interpreteur de venv ex: `/home/pi/dev-python/myprg/venv/bin/python3`\n",
    "  - compléter le champ `Sync folder` en sélectionnant les dossiers de projet locaux et distant ex : `C:/Users/jmetr/_data/dev soft/python/myprg` et `/home/pi/dev-python/myprg`\n",
    "  - cliquer sur `Finsih` puis si demandé sur `Overwrite` puis `OK`\n",
    "\n",
    "\n",
    "2. l'interpréteur distant existe déjà dans la liste proposée\n",
    "  - sélectionner ou créer l'interpréteur Python en choisissant le programme dossier sur le PI ex : `sftp://pi@192.168.1.142/home/pi/dev-python/myprg/venv/bin/python3`\n",
    "  - sous Path mappings compléter les champs `Local Path`et `Remote Path` comme ci-dessus\n",
    "\n",
    "##### Tester l'application\n",
    "\n",
    "- tester l'application *myprg.py* et vérifier qu'elle est exécutée sur le RPI"
   ]
  },
  {
   "cell_type": "code",
   "execution_count": null,
   "metadata": {},
   "outputs": [],
   "source": []
  }
 ],
 "metadata": {
  "kernelspec": {
   "display_name": "Python 3",
   "language": "python",
   "name": "python3"
  },
  "language_info": {
   "codemirror_mode": {
    "name": "ipython",
    "version": 3
   },
   "file_extension": ".py",
   "mimetype": "text/x-python",
   "name": "python",
   "nbconvert_exporter": "python",
   "pygments_lexer": "ipython3",
   "version": "3.6.5"
  }
 },
 "nbformat": 4,
 "nbformat_minor": 4
}
